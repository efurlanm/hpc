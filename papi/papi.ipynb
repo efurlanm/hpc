{
 "cells": [
  {
   "cell_type": "markdown",
   "metadata": {},
   "source": [
    "# My personal notes on PAPI and hardware\n",
    "\n",
    "http://icl.cs.utk.edu/papi/"
   ]
  },
  {
   "cell_type": "code",
   "execution_count": 1,
   "metadata": {},
   "outputs": [
    {
     "name": "stdout",
     "output_type": "stream",
     "text": [
      "   Static hostname: sdumont18\n",
      "         Icon name: computer-server\n",
      "           Chassis: server\n",
      "        Machine ID: b2e8ad25684d44b68de42a969adb33bb\n",
      "           Boot ID: db5503ea9fda467baaa65b75646e5891\n",
      "  Operating System: Red Hat Enterprise Linux Server 7.7 (Maipo)\n",
      "       CPE OS Name: cpe:/o:redhat:enterprise_linux:7.7:GA:server\n",
      "            Kernel: Linux 3.10.0-957.27.2.el7.x86_64\n",
      "      Architecture: x86-64\n"
     ]
    }
   ],
   "source": [
    "! hostnamectl"
   ]
  },
  {
   "cell_type": "code",
   "execution_count": 5,
   "metadata": {},
   "outputs": [
    {
     "name": "stdout",
     "output_type": "stream",
     "text": [
      "3b:00.0 3D controller: NVIDIA Corporation GV100GL [Tesla V100 PCIe 32GB] (rev a1)\n",
      "5e:00.0 3D controller: NVIDIA Corporation GV100GL [Tesla V100 PCIe 32GB] (rev a1)\n",
      "86:00.0 3D controller: NVIDIA Corporation GV100GL [Tesla V100 PCIe 32GB] (rev a1)\n",
      "af:00.0 3D controller: NVIDIA Corporation GV100GL [Tesla V100 PCIe 32GB] (rev a1)\n"
     ]
    }
   ],
   "source": [
    "! lspci | grep NVIDIA"
   ]
  },
  {
   "cell_type": "code",
   "execution_count": 10,
   "metadata": {},
   "outputs": [
    {
     "name": "stdout",
     "output_type": "stream",
     "text": [
      "CPU(s):                88\n",
      "On-line CPU(s) list:   0-87\n",
      "Thread(s) per core:    2\n",
      "Socket(s):             2\n",
      "NUMA node(s):          2\n",
      "Model name:            Intel(R) Xeon(R) Gold 6152 CPU @ 2.10GHz\n",
      "NUMA node0 CPU(s):     0-21,44-65\n",
      "NUMA node1 CPU(s):     22-43,66-87\n"
     ]
    }
   ],
   "source": [
    "! lscpu | egrep 'Model name|Socket|Thread|NUMA|CPU\\(s\\)'"
   ]
  },
  {
   "cell_type": "code",
   "execution_count": 12,
   "metadata": {},
   "outputs": [
    {
     "name": "stdout",
     "output_type": "stream",
     "text": [
      "CPU threads: 88\n"
     ]
    }
   ],
   "source": [
    "! echo \"CPU threads: $(grep -c processor /proc/cpuinfo)\""
   ]
  },
  {
   "cell_type": "code",
   "execution_count": 13,
   "metadata": {},
   "outputs": [
    {
     "name": "stdout",
     "output_type": "stream",
     "text": [
      "88\n"
     ]
    }
   ],
   "source": [
    "! nproc --all"
   ]
  },
  {
   "cell_type": "code",
   "execution_count": 16,
   "metadata": {},
   "outputs": [
    {
     "name": "stdout",
     "output_type": "stream",
     "text": [
      "MemTotal:       791009752 kB\n",
      "MemFree:        705361836 kB\n",
      "MemAvailable:   773516612 kB\n",
      "Buffers:          399644 kB\n",
      "Cached:         68407188 kB\n",
      "SwapCached:            0 kB\n",
      "Active:         19929236 kB\n",
      "Inactive:       49909108 kB\n",
      "Active(anon):    1646308 kB\n",
      "Inactive(anon):   243172 kB\n",
      "Active(file):   18282928 kB\n",
      "Inactive(file): 49665936 kB\n",
      "Unevictable:           0 kB\n",
      "Mlocked:               0 kB\n",
      "SwapTotal:             0 kB\n",
      "SwapFree:              0 kB\n",
      "Dirty:                24 kB\n",
      "Writeback:             0 kB\n",
      "AnonPages:       1031572 kB\n",
      "Mapped:           221036 kB\n",
      "Shmem:            857964 kB\n",
      "Slab:            8127912 kB\n",
      "SReclaimable:    2029056 kB\n",
      "SUnreclaim:      6098856 kB\n",
      "KernelStack:       29440 kB\n",
      "PageTables:        37780 kB\n",
      "NFS_Unstable:          0 kB\n",
      "Bounce:                0 kB\n",
      "WritebackTmp:          0 kB\n",
      "CommitLimit:    395504876 kB\n",
      "Committed_AS:    5073604 kB\n",
      "VmallocTotal:   34359738367 kB\n",
      "VmallocUsed:     2426432 kB\n",
      "VmallocChunk:   33954576380 kB\n",
      "HardwareCorrupted:     0 kB\n",
      "AnonHugePages:    339968 kB\n",
      "CmaTotal:              0 kB\n",
      "CmaFree:               0 kB\n",
      "HugePages_Total:       0\n",
      "HugePages_Free:        0\n",
      "HugePages_Rsvd:        0\n",
      "HugePages_Surp:        0\n",
      "Hugepagesize:       2048 kB\n",
      "DirectMap4k:    38993104 kB\n",
      "DirectMap2M:    619157504 kB\n",
      "DirectMap1G:    147849216 kB\n"
     ]
    }
   ],
   "source": [
    "! cat /proc/meminfo"
   ]
  },
  {
   "cell_type": "code",
   "execution_count": 18,
   "metadata": {},
   "outputs": [
    {
     "name": "stdout",
     "output_type": "stream",
     "text": [
      "lsblk: /scratch/app/anaconda3/2020.11/lib/libuuid.so.1: no version information available (required by /usr/lib64/libblkid.so.1)\n",
      "NAME    MAJ:MIN RM   SIZE RO TYPE  MOUNTPOINT\n",
      "sda       8:0    0 894.3G  0 disk  \n",
      "├─sda1    8:1    0     2G  0 part  \n",
      "│ └─md0   9:0    0     2G  0 raid1 /boot/efi\n",
      "├─sda2    8:2    0     2G  0 part  \n",
      "│ └─md1   9:1    0     2G  0 raid1 /boot\n",
      "└─sda3    8:3    0 890.3G  0 part  \n",
      "  └─md2   9:2    0 890.1G  0 raid1 /\n",
      "sdb       8:16   0 894.3G  0 disk  \n",
      "├─sdb1    8:17   0     2G  0 part  \n",
      "│ └─md0   9:0    0     2G  0 raid1 /boot/efi\n",
      "├─sdb2    8:18   0     2G  0 part  \n",
      "│ └─md1   9:1    0     2G  0 raid1 /boot\n",
      "└─sdb3    8:19   0 890.3G  0 part  \n",
      "  └─md2   9:2    0 890.1G  0 raid1 /\n"
     ]
    }
   ],
   "source": [
    "! lsblk"
   ]
  },
  {
   "cell_type": "code",
   "execution_count": 19,
   "metadata": {},
   "outputs": [
    {
     "name": "stdout",
     "output_type": "stream",
     "text": [
      "\n",
      "------------------------ /usr/share/Modules/modulefiles ------------------------\n",
      "papi/5.5.1.0       papi-devel/5.5.1.0\n"
     ]
    }
   ],
   "source": [
    "! module avail papi"
   ]
  },
  {
   "cell_type": "code",
   "execution_count": 31,
   "metadata": {},
   "outputs": [
    {
     "name": "stderr",
     "output_type": "stream",
     "text": [
      "-------------------------------------------------------------------\n",
      "/usr/share/Modules/modulefiles/papi/5.5.1.0:\n",
      "\n",
      "module-whatis\t loads the papi-5.5.1.0 environment \n",
      "prepend-path\t PATH /opt/bullxde/perftools/papi/5.5.1.0/bin \n",
      "append-path\t MANPATH /opt/bullxde/perftools/papi/5.5.1.0/man: \n",
      "-------------------------------------------------------------------\n",
      "-------------------------------------------------------------------\n",
      "/usr/share/Modules/modulefiles/papi-devel/5.5.1.0:\n",
      "\n",
      "module-whatis\t loads the papi-devel-5.5.1.0 environment \n",
      "append-path\t MANPATH /opt/bullxde/perftools/papi/5.5.1.0/man: \n",
      "prepend-path\t CPATH /opt/bullxde/perftools/papi/5.5.1.0/include \n",
      "prepend-path\t LIBRARY_PATH /opt/bullxde/perftools/papi/5.5.1.0/lib64 \n",
      "prepend-path\t LD_LIBRARY_PATH /opt/bullxde/perftools/papi/5.5.1.0/lib64 \n",
      "prepend-path\t CPATH /opt/bullxde/perftools/papi/5.5.1.0/include/perfmon \n",
      "-------------------------------------------------------------------\n",
      "\n"
     ]
    }
   ],
   "source": [
    "%%bash\n",
    "module load papi papi-devel\n",
    "module display papi papi-devel"
   ]
  },
  {
   "cell_type": "code",
   "execution_count": 32,
   "metadata": {},
   "outputs": [
    {
     "name": "stdout",
     "output_type": "stream",
     "text": [
      "Available PAPI preset and user defined events plus hardware information.\n",
      "--------------------------------------------------------------------------------\n",
      "PAPI Version             : 5.5.1.0\n",
      "Vendor string and code   : GenuineIntel (1)\n",
      "Model string and code    : Intel(R) Xeon(R) Gold 6152 CPU @ 2.10GHz (85)\n",
      "CPU Revision             : 4.000000\n",
      "CPUID Info               : Family: 6  Model: 85  Stepping: 4\n",
      "CPU Max Megahertz        : 2101\n",
      "CPU Min Megahertz        : 1000\n",
      "Hdw Threads per core     : 2\n",
      "Cores per Socket         : 22\n",
      "Sockets                  : 2\n",
      "NUMA Nodes               : 2\n",
      "CPUs per Node            : 44\n",
      "Total CPUs               : 88\n",
      "Running in a VM          : no\n",
      "Number Hardware Counters : 11\n",
      "Max Multiplex Counters   : 384\n",
      "--------------------------------------------------------------------------------\n",
      "\n",
      "================================================================================\n",
      "  PAPI Preset Events\n",
      "================================================================================\n",
      "    Name        Code    Avail Deriv Description (Note)\n",
      "PAPI_L1_DCM  0x80000000  Yes   No   Level 1 data cache misses\n",
      "PAPI_L1_ICM  0x80000001  Yes   No   Level 1 instruction cache misses\n",
      "PAPI_L2_DCM  0x80000002  Yes   Yes  Level 2 data cache misses\n",
      "PAPI_L2_ICM  0x80000003  Yes   No   Level 2 instruction cache misses\n",
      "PAPI_L3_DCM  0x80000004  No    No   Level 3 data cache misses\n",
      "PAPI_L3_ICM  0x80000005  No    No   Level 3 instruction cache misses\n",
      "PAPI_L1_TCM  0x80000006  Yes   Yes  Level 1 cache misses\n",
      "PAPI_L2_TCM  0x80000007  Yes   No   Level 2 cache misses\n",
      "PAPI_L3_TCM  0x80000008  Yes   No   Level 3 cache misses\n",
      "PAPI_CA_SNP  0x80000009  Yes   No   Requests for a snoop\n",
      "PAPI_CA_SHR  0x8000000a  Yes   No   Requests for exclusive access to shared cache line\n",
      "PAPI_CA_CLN  0x8000000b  Yes   No   Requests for exclusive access to clean cache line\n",
      "PAPI_CA_INV  0x8000000c  No    No   Requests for cache line invalidation\n",
      "PAPI_CA_ITV  0x8000000d  Yes   No   Requests for cache line intervention\n",
      "PAPI_L3_LDM  0x8000000e  Yes   No   Level 3 load misses\n",
      "PAPI_L3_STM  0x8000000f  No    No   Level 3 store misses\n",
      "PAPI_BRU_IDL 0x80000010  No    No   Cycles branch units are idle\n",
      "PAPI_FXU_IDL 0x80000011  No    No   Cycles integer units are idle\n",
      "PAPI_FPU_IDL 0x80000012  No    No   Cycles floating point units are idle\n",
      "PAPI_LSU_IDL 0x80000013  No    No   Cycles load/store units are idle\n",
      "PAPI_TLB_DM  0x80000014  Yes   Yes  Data translation lookaside buffer misses\n",
      "PAPI_TLB_IM  0x80000015  Yes   No   Instruction translation lookaside buffer misses\n",
      "PAPI_TLB_TL  0x80000016  No    No   Total translation lookaside buffer misses\n",
      "PAPI_L1_LDM  0x80000017  Yes   No   Level 1 load misses\n",
      "PAPI_L1_STM  0x80000018  Yes   No   Level 1 store misses\n",
      "PAPI_L2_LDM  0x80000019  Yes   No   Level 2 load misses\n",
      "PAPI_L2_STM  0x8000001a  Yes   No   Level 2 store misses\n",
      "PAPI_BTAC_M  0x8000001b  No    No   Branch target address cache misses\n",
      "PAPI_PRF_DM  0x8000001c  Yes   No   Data prefetch cache misses\n",
      "PAPI_L3_DCH  0x8000001d  No    No   Level 3 data cache hits\n",
      "PAPI_TLB_SD  0x8000001e  No    No   Translation lookaside buffer shootdowns\n",
      "PAPI_CSR_FAL 0x8000001f  No    No   Failed store conditional instructions\n",
      "PAPI_CSR_SUC 0x80000020  No    No   Successful store conditional instructions\n",
      "PAPI_CSR_TOT 0x80000021  No    No   Total store conditional instructions\n",
      "PAPI_MEM_SCY 0x80000022  No    No   Cycles Stalled Waiting for memory accesses\n",
      "PAPI_MEM_RCY 0x80000023  No    No   Cycles Stalled Waiting for memory Reads\n",
      "PAPI_MEM_WCY 0x80000024  Yes   No   Cycles Stalled Waiting for memory writes\n",
      "PAPI_STL_ICY 0x80000025  Yes   No   Cycles with no instruction issue\n",
      "PAPI_FUL_ICY 0x80000026  Yes   Yes  Cycles with maximum instruction issue\n",
      "PAPI_STL_CCY 0x80000027  Yes   No   Cycles with no instructions completed\n",
      "PAPI_FUL_CCY 0x80000028  Yes   No   Cycles with maximum instructions completed\n",
      "PAPI_HW_INT  0x80000029  No    No   Hardware interrupts\n",
      "PAPI_BR_UCN  0x8000002a  Yes   Yes  Unconditional branch instructions\n",
      "PAPI_BR_CN   0x8000002b  Yes   No   Conditional branch instructions\n",
      "PAPI_BR_TKN  0x8000002c  Yes   Yes  Conditional branch instructions taken\n",
      "PAPI_BR_NTK  0x8000002d  Yes   No   Conditional branch instructions not taken\n",
      "PAPI_BR_MSP  0x8000002e  Yes   No   Conditional branch instructions mispredicted\n",
      "PAPI_BR_PRC  0x8000002f  Yes   Yes  Conditional branch instructions correctly predicted\n",
      "PAPI_FMA_INS 0x80000030  No    No   FMA instructions completed\n",
      "PAPI_TOT_IIS 0x80000031  No    No   Instructions issued\n",
      "PAPI_TOT_INS 0x80000032  Yes   No   Instructions completed\n",
      "PAPI_INT_INS 0x80000033  No    No   Integer instructions\n",
      "PAPI_FP_INS  0x80000034  No    No   Floating point instructions\n",
      "PAPI_LD_INS  0x80000035  Yes   No   Load instructions\n",
      "PAPI_SR_INS  0x80000036  Yes   No   Store instructions\n",
      "PAPI_BR_INS  0x80000037  Yes   No   Branch instructions\n",
      "PAPI_VEC_INS 0x80000038  No    No   Vector/SIMD instructions (could include integer)\n",
      "PAPI_RES_STL 0x80000039  Yes   No   Cycles stalled on any resource\n",
      "PAPI_FP_STAL 0x8000003a  No    No   Cycles the FP unit(s) are stalled\n",
      "PAPI_TOT_CYC 0x8000003b  Yes   No   Total cycles\n",
      "PAPI_LST_INS 0x8000003c  Yes   Yes  Load/store instructions completed\n",
      "PAPI_SYC_INS 0x8000003d  No    No   Synchronization instructions completed\n",
      "PAPI_L1_DCH  0x8000003e  No    No   Level 1 data cache hits\n",
      "PAPI_L2_DCH  0x8000003f  No    No   Level 2 data cache hits\n",
      "PAPI_L1_DCA  0x80000040  No    No   Level 1 data cache accesses\n",
      "PAPI_L2_DCA  0x80000041  Yes   No   Level 2 data cache accesses\n",
      "PAPI_L3_DCA  0x80000042  Yes   Yes  Level 3 data cache accesses\n",
      "PAPI_L1_DCR  0x80000043  No    No   Level 1 data cache reads\n",
      "PAPI_L2_DCR  0x80000044  Yes   No   Level 2 data cache reads\n",
      "PAPI_L3_DCR  0x80000045  Yes   No   Level 3 data cache reads\n",
      "PAPI_L1_DCW  0x80000046  No    No   Level 1 data cache writes\n",
      "PAPI_L2_DCW  0x80000047  Yes   Yes  Level 2 data cache writes\n",
      "PAPI_L3_DCW  0x80000048  Yes   No   Level 3 data cache writes\n",
      "PAPI_L1_ICH  0x80000049  No    No   Level 1 instruction cache hits\n",
      "PAPI_L2_ICH  0x8000004a  Yes   No   Level 2 instruction cache hits\n",
      "PAPI_L3_ICH  0x8000004b  No    No   Level 3 instruction cache hits\n",
      "PAPI_L1_ICA  0x8000004c  No    No   Level 1 instruction cache accesses\n",
      "PAPI_L2_ICA  0x8000004d  Yes   No   Level 2 instruction cache accesses\n",
      "PAPI_L3_ICA  0x8000004e  Yes   No   Level 3 instruction cache accesses\n",
      "PAPI_L1_ICR  0x8000004f  No    No   Level 1 instruction cache reads\n",
      "PAPI_L2_ICR  0x80000050  Yes   No   Level 2 instruction cache reads\n",
      "PAPI_L3_ICR  0x80000051  Yes   No   Level 3 instruction cache reads\n",
      "PAPI_L1_ICW  0x80000052  No    No   Level 1 instruction cache writes\n",
      "PAPI_L2_ICW  0x80000053  No    No   Level 2 instruction cache writes\n",
      "PAPI_L3_ICW  0x80000054  No    No   Level 3 instruction cache writes\n",
      "PAPI_L1_TCH  0x80000055  No    No   Level 1 total cache hits\n",
      "PAPI_L2_TCH  0x80000056  No    No   Level 2 total cache hits\n",
      "PAPI_L3_TCH  0x80000057  No    No   Level 3 total cache hits\n",
      "PAPI_L1_TCA  0x80000058  No    No   Level 1 total cache accesses\n",
      "PAPI_L2_TCA  0x80000059  Yes   Yes  Level 2 total cache accesses\n",
      "PAPI_L3_TCA  0x8000005a  Yes   No   Level 3 total cache accesses\n",
      "PAPI_L1_TCR  0x8000005b  No    No   Level 1 total cache reads\n",
      "PAPI_L2_TCR  0x8000005c  Yes   Yes  Level 2 total cache reads\n",
      "PAPI_L3_TCR  0x8000005d  Yes   Yes  Level 3 total cache reads\n",
      "PAPI_L1_TCW  0x8000005e  No    No   Level 1 total cache writes\n",
      "PAPI_L2_TCW  0x8000005f  Yes   Yes  Level 2 total cache writes\n",
      "PAPI_L3_TCW  0x80000060  Yes   No   Level 3 total cache writes\n",
      "PAPI_FML_INS 0x80000061  No    No   Floating point multiply instructions\n",
      "PAPI_FAD_INS 0x80000062  No    No   Floating point add instructions\n",
      "PAPI_FDV_INS 0x80000063  No    No   Floating point divide instructions\n",
      "PAPI_FSQ_INS 0x80000064  No    No   Floating point square root instructions\n",
      "PAPI_FNV_INS 0x80000065  No    No   Floating point inverse instructions\n",
      "PAPI_FP_OPS  0x80000066  No    No   Floating point operations\n",
      "PAPI_SP_OPS  0x80000067  Yes   Yes  Floating point operations; optimized to count scaled single precision vector operations\n",
      "PAPI_DP_OPS  0x80000068  Yes   Yes  Floating point operations; optimized to count scaled double precision vector operations\n",
      "PAPI_VEC_SP  0x80000069  Yes   Yes  Single precision vector/SIMD instructions\n",
      "PAPI_VEC_DP  0x8000006a  Yes   Yes  Double precision vector/SIMD instructions\n",
      "PAPI_REF_CYC 0x8000006b  Yes   No   Reference clock cycles\n",
      "--------------------------------------------------------------------------------\n",
      "Of 108 possible events, 59 are available, of which 18 are derived.\n",
      "\n",
      "avail.c                                     PASSED\n"
     ]
    }
   ],
   "source": [
    "%%bash\n",
    "module load papi papi-devel\n",
    "papi_avail"
   ]
  },
  {
   "cell_type": "markdown",
   "metadata": {},
   "source": [
    "#### Show only Avail"
   ]
  },
  {
   "cell_type": "code",
   "execution_count": 34,
   "metadata": {},
   "outputs": [
    {
     "name": "stdout",
     "output_type": "stream",
     "text": [
      "    Name        Code    Avail Deriv Description (Note)\n",
      "PAPI_L1_DCM  0x80000000  Yes   No   Level 1 data cache misses\n",
      "PAPI_L1_ICM  0x80000001  Yes   No   Level 1 instruction cache misses\n",
      "PAPI_L2_DCM  0x80000002  Yes   Yes  Level 2 data cache misses\n",
      "PAPI_L2_ICM  0x80000003  Yes   No   Level 2 instruction cache misses\n",
      "PAPI_L1_TCM  0x80000006  Yes   Yes  Level 1 cache misses\n",
      "PAPI_L2_TCM  0x80000007  Yes   No   Level 2 cache misses\n",
      "PAPI_L3_TCM  0x80000008  Yes   No   Level 3 cache misses\n",
      "PAPI_CA_SNP  0x80000009  Yes   No   Requests for a snoop\n",
      "PAPI_CA_SHR  0x8000000a  Yes   No   Requests for exclusive access to shared cache line\n",
      "PAPI_CA_CLN  0x8000000b  Yes   No   Requests for exclusive access to clean cache line\n",
      "PAPI_CA_ITV  0x8000000d  Yes   No   Requests for cache line intervention\n",
      "PAPI_L3_LDM  0x8000000e  Yes   No   Level 3 load misses\n",
      "PAPI_TLB_DM  0x80000014  Yes   Yes  Data translation lookaside buffer misses\n",
      "PAPI_TLB_IM  0x80000015  Yes   No   Instruction translation lookaside buffer misses\n",
      "PAPI_L1_LDM  0x80000017  Yes   No   Level 1 load misses\n",
      "PAPI_L1_STM  0x80000018  Yes   No   Level 1 store misses\n",
      "PAPI_L2_LDM  0x80000019  Yes   No   Level 2 load misses\n",
      "PAPI_L2_STM  0x8000001a  Yes   No   Level 2 store misses\n",
      "PAPI_PRF_DM  0x8000001c  Yes   No   Data prefetch cache misses\n",
      "PAPI_MEM_WCY 0x80000024  Yes   No   Cycles Stalled Waiting for memory writes\n",
      "PAPI_STL_ICY 0x80000025  Yes   No   Cycles with no instruction issue\n",
      "PAPI_FUL_ICY 0x80000026  Yes   Yes  Cycles with maximum instruction issue\n",
      "PAPI_STL_CCY 0x80000027  Yes   No   Cycles with no instructions completed\n",
      "PAPI_FUL_CCY 0x80000028  Yes   No   Cycles with maximum instructions completed\n",
      "PAPI_BR_UCN  0x8000002a  Yes   Yes  Unconditional branch instructions\n",
      "PAPI_BR_CN   0x8000002b  Yes   No   Conditional branch instructions\n",
      "PAPI_BR_TKN  0x8000002c  Yes   Yes  Conditional branch instructions taken\n",
      "PAPI_BR_NTK  0x8000002d  Yes   No   Conditional branch instructions not taken\n",
      "PAPI_BR_MSP  0x8000002e  Yes   No   Conditional branch instructions mispredicted\n",
      "PAPI_BR_PRC  0x8000002f  Yes   Yes  Conditional branch instructions correctly predicted\n",
      "PAPI_TOT_INS 0x80000032  Yes   No   Instructions completed\n",
      "PAPI_LD_INS  0x80000035  Yes   No   Load instructions\n",
      "PAPI_SR_INS  0x80000036  Yes   No   Store instructions\n",
      "PAPI_BR_INS  0x80000037  Yes   No   Branch instructions\n",
      "PAPI_RES_STL 0x80000039  Yes   No   Cycles stalled on any resource\n",
      "PAPI_TOT_CYC 0x8000003b  Yes   No   Total cycles\n",
      "PAPI_LST_INS 0x8000003c  Yes   Yes  Load/store instructions completed\n",
      "PAPI_L2_DCA  0x80000041  Yes   No   Level 2 data cache accesses\n",
      "PAPI_L3_DCA  0x80000042  Yes   Yes  Level 3 data cache accesses\n",
      "PAPI_L2_DCR  0x80000044  Yes   No   Level 2 data cache reads\n",
      "PAPI_L3_DCR  0x80000045  Yes   No   Level 3 data cache reads\n",
      "PAPI_L2_DCW  0x80000047  Yes   Yes  Level 2 data cache writes\n",
      "PAPI_L3_DCW  0x80000048  Yes   No   Level 3 data cache writes\n",
      "PAPI_L2_ICH  0x8000004a  Yes   No   Level 2 instruction cache hits\n",
      "PAPI_L2_ICA  0x8000004d  Yes   No   Level 2 instruction cache accesses\n",
      "PAPI_L3_ICA  0x8000004e  Yes   No   Level 3 instruction cache accesses\n",
      "PAPI_L2_ICR  0x80000050  Yes   No   Level 2 instruction cache reads\n",
      "PAPI_L3_ICR  0x80000051  Yes   No   Level 3 instruction cache reads\n",
      "PAPI_L2_TCA  0x80000059  Yes   Yes  Level 2 total cache accesses\n",
      "PAPI_L3_TCA  0x8000005a  Yes   No   Level 3 total cache accesses\n",
      "PAPI_L2_TCR  0x8000005c  Yes   Yes  Level 2 total cache reads\n",
      "PAPI_L3_TCR  0x8000005d  Yes   Yes  Level 3 total cache reads\n",
      "PAPI_L2_TCW  0x8000005f  Yes   Yes  Level 2 total cache writes\n",
      "PAPI_L3_TCW  0x80000060  Yes   No   Level 3 total cache writes\n",
      "PAPI_SP_OPS  0x80000067  Yes   Yes  Floating point operations; optimized to count scaled single precision vector operations\n",
      "PAPI_DP_OPS  0x80000068  Yes   Yes  Floating point operations; optimized to count scaled double precision vector operations\n",
      "PAPI_VEC_SP  0x80000069  Yes   Yes  Single precision vector/SIMD instructions\n",
      "PAPI_VEC_DP  0x8000006a  Yes   Yes  Double precision vector/SIMD instructions\n",
      "PAPI_REF_CYC 0x8000006b  Yes   No   Reference clock cycles\n"
     ]
    }
   ],
   "source": [
    "%%bash\n",
    "module load papi papi-devel\n",
    "papi_avail | egrep 'Deriv|Yes'"
   ]
  },
  {
   "cell_type": "code",
   "execution_count": 28,
   "metadata": {},
   "outputs": [
    {
     "name": "stdout",
     "output_type": "stream",
     "text": [
      "Available components and hardware information.\n",
      "--------------------------------------------------------------------------------\n",
      "PAPI Version             : 5.5.1.0\n",
      "Vendor string and code   : GenuineIntel (1)\n",
      "Model string and code    : Intel(R) Xeon(R) Gold 6152 CPU @ 2.10GHz (85)\n",
      "CPU Revision             : 4.000000\n",
      "CPUID Info               : Family: 6  Model: 85  Stepping: 4\n",
      "CPU Max Megahertz        : 2101\n",
      "CPU Min Megahertz        : 1000\n",
      "Hdw Threads per core     : 2\n",
      "Cores per Socket         : 22\n",
      "Sockets                  : 2\n",
      "NUMA Nodes               : 2\n",
      "CPUs per Node            : 44\n",
      "Total CPUs               : 88\n",
      "Running in a VM          : no\n",
      "Number Hardware Counters : 11\n",
      "Max Multiplex Counters   : 384\n",
      "--------------------------------------------------------------------------------\n",
      "\n",
      "Compiled-in components:\n",
      "Name:   perf_event              Linux perf_event CPU counters\n",
      "Name:   perf_event_uncore       Linux perf_event CPU uncore and northbridge\n",
      "   \\-> Disabled: No uncore PMUs or events found\n",
      "Name:   rapl                    Linux RAPL energy measurements\n",
      "   \\-> Disabled: CPU model not supported\n",
      "Name:   net                     Linux network driver statistics\n",
      "Name:   lustre                  Lustre filesystem statistics\n",
      "   \\-> Disabled: No lustre filesystems found\n",
      "Name:   infiniband              Linux Infiniband statistics using the sysfs interface\n",
      "\n",
      "Active components:\n",
      "Name:   perf_event              Linux perf_event CPU counters\n",
      "                                Native: 162, Preset: 59, Counters: 11\n",
      "                                PMU's supported: ix86arch, perf, perf_raw, skl\n",
      "\n",
      "Name:   net                     Linux network driver statistics\n",
      "                                Native: 128, Preset: 0, Counters: 320\n",
      "                                PMU's supported: \n",
      "\n",
      "Name:   infiniband              Linux Infiniband statistics using the sysfs interface\n",
      "                                Native: 21, Preset: 0, Counters: 21\n",
      "                                PMU's supported: \n",
      "\n",
      "\n",
      "--------------------------------------------------------------------------------\n",
      "component.c                             PASSED\n"
     ]
    }
   ],
   "source": [
    "%%bash\n",
    "module load papi papi-devel\n",
    "papi_component_avail"
   ]
  },
  {
   "cell_type": "code",
   "execution_count": 46,
   "metadata": {},
   "outputs": [
    {
     "name": "stdout",
     "output_type": "stream",
     "text": [
      "GNU Fortran (GCC) 4.8.5 20150623 (Red Hat 4.8.5-39)\n",
      "Copyright (C) 2015 Free Software Foundation, Inc.\n",
      "\n",
      "GNU Fortran comes with NO WARRANTY, to the extent permitted by law.\n",
      "You may redistribute copies of GNU Fortran\n",
      "under the terms of the GNU General Public License.\n",
      "For more information about these matters, see the file named COPYING\n",
      "\n"
     ]
    }
   ],
   "source": [
    "%%bash\n",
    "gfortran --version"
   ]
  },
  {
   "cell_type": "code",
   "execution_count": 48,
   "metadata": {},
   "outputs": [
    {
     "name": "stdout",
     "output_type": "stream",
     "text": [
      "/opt/bullxde/perftools/papi/5.5.1.0/include/perfmon:/opt/bullxde/perftools/papi/5.5.1.0/include\n",
      "/opt/bullxde/perftools/papi/5.5.1.0/lib64\n"
     ]
    }
   ],
   "source": [
    "%%bash\n",
    "module load papi papi-devel\n",
    "echo $CPATH\n",
    "echo $LIBRARY_PATH"
   ]
  },
  {
   "cell_type": "code",
   "execution_count": 49,
   "metadata": {},
   "outputs": [
    {
     "name": "stdout",
     "output_type": "stream",
     "text": [
      "f77papi.h  f90papi.h  fpapi.h  papi.h  papiStdEventDefs.h\n"
     ]
    }
   ],
   "source": [
    "! ls /opt/bullxde/perftools/papi/5.5.1.0/include"
   ]
  },
  {
   "cell_type": "code",
   "execution_count": 60,
   "metadata": {},
   "outputs": [
    {
     "name": "stdout",
     "output_type": "stream",
     "text": [
      "libpapi.a   libpapi.so.5      libpapi.so.5.5.1.0  libpfm.so    libpfm.so.4.8.0\n",
      "libpapi.so  libpapi.so.5.5.1  libpfm.a\t\t  libpfm.so.4  pkgconfig\n"
     ]
    }
   ],
   "source": [
    "! ls /opt/bullxde/perftools/papi/5.5.1.0/lib64"
   ]
  },
  {
   "cell_type": "markdown",
   "metadata": {},
   "source": [
    "#### Test\n",
    "\n",
    "Testing one small code only to see if works"
   ]
  },
  {
   "cell_type": "code",
   "execution_count": 36,
   "metadata": {},
   "outputs": [
    {
     "name": "stdout",
     "output_type": "stream",
     "text": [
      "Overwriting test01.f90\n"
     ]
    }
   ],
   "source": [
    "%%writefile test01.f90\n",
    "!-----------------------------------------------------------------------\n",
    "program test01\n",
    "    implicit none\n",
    "    include 'f90papi.h'\n",
    "\n",
    "    integer, parameter :: N = 512\n",
    "    double precision, dimension(N, N) :: a, b\n",
    "    double precision :: t1, t2, rate\n",
    "    integer :: i, j\n",
    "\n",
    "    integer, parameter :: max_event = 3\n",
    "    integer, dimension(max_event) :: event\n",
    "    integer(kind=8), dimension(max_event) :: values\n",
    "    integer :: retval\n",
    "\n",
    "    event(1) = PAPI_LD_INS\n",
    "    event(2) = PAPI_SR_INS\n",
    "    !event(x) = PAPI_L1_TCM\n",
    "    !event(x) = PAPI_L2_TCM\n",
    "    event(3) = PAPI_L3_TCM\n",
    "\n",
    "    call init01(a, b, N)            ! init matrix cels\n",
    "\n",
    "    call PAPIF_start_counters (event, max_event, retval)\n",
    "    if (retval /= PAPI_OK) then\n",
    "        call PAPIF_perror('PAPIF_start_counters')\n",
    "        stop\n",
    "    endif\n",
    "\n",
    "    call cpu_time(t1)               ! CPU elapsed time in seconds\n",
    "\n",
    "    do j = 1, N                     ! transpose the matrix\n",
    "        do i = 1, N\n",
    "            b(i, j) = a(j, i)\n",
    "        enddo\n",
    "    enddo\n",
    "\n",
    "    call cpu_time(t2)               ! CPU elapsed time in seconds\n",
    "    \n",
    "    ! Read out PAPI counters\n",
    "    call PAPIF_read_counters(values, max_event, retval)\n",
    "    if (retval /= PAPI_OK) then\n",
    "        call PAPIF_perror('PAPIF_read_counters')\n",
    "        stop\n",
    "    endif\n",
    "\n",
    "    call check01(a, b, N)           ! check the transpose\n",
    "\n",
    "    ! Print Timings\n",
    "    print*, 'PAPI_LD_INS', values(1)\n",
    "    print*, 'PAPI_SR_INS', values(2)\n",
    "    !print*, 'PAPI_L1_TCM', values(x)\n",
    "    !print*, 'PAPI_L2_TCM', values(x)\n",
    "    print*, 'PAPI_L3_TCM', values(3)\n",
    "    rate = 2 * N * N / (1024 * 1024 * (t2 - t1))\n",
    "    print '(a, i0, a, f10.6, a, f6.1, a)',  &\n",
    "          \"N=\", N, \",  T=\", t2 - t1, \" s,  Rate=\", rate, \" MB/s\"\n",
    "\n",
    "contains\n",
    "    \n",
    "    subroutine init01(a, b, N)\n",
    "        implicit none\n",
    "        integer, intent(in) :: N\n",
    "        double precision, intent(inout) :: a(N, N), b(N, N)\n",
    "        integer :: i, j\n",
    "        do i = 1, N\n",
    "            do j = 1, N\n",
    "                a(i, j) = 1.0\n",
    "                b(i, j) = 0.0\n",
    "            enddo\n",
    "        enddo\n",
    "    end subroutine\n",
    "\n",
    "    subroutine check01(a, b, N)\n",
    "        implicit none\n",
    "        integer, intent(in) :: N\n",
    "        double precision, intent(in) :: a(N, N), b(N, N)\n",
    "        integer :: i, j\n",
    "        do i = 1, N\n",
    "            do j = 1, N\n",
    "                if ( a(i, j) /= b(i, j) ) then\n",
    "                    print *, \"Error: \", i, j\n",
    "                endif\n",
    "            enddo\n",
    "        enddo\n",
    "    end subroutine\n",
    "\n",
    "end program\n"
   ]
  },
  {
   "cell_type": "code",
   "execution_count": 37,
   "metadata": {},
   "outputs": [],
   "source": [
    "%%bash\n",
    "module load papi papi-devel\n",
    "gfortran -lpapi -o test01 test01.f90 \\\n",
    "         -I /opt/bullxde/perftools/papi/5.5.1.0/include"
   ]
  },
  {
   "cell_type": "code",
   "execution_count": 38,
   "metadata": {},
   "outputs": [
    {
     "name": "stdout",
     "output_type": "stream",
     "text": [
      " PAPI_LD_INS              1838017\n",
      " PAPI_SR_INS               525961\n",
      " PAPI_L3_TCM                 1379\n",
      "N=512,  T=  0.001251 s,  Rate= 399.7 MB/s\n"
     ]
    }
   ],
   "source": [
    "%%bash\n",
    "module load papi papi-devel\n",
    "./test01"
   ]
  },
  {
   "cell_type": "code",
   "execution_count": null,
   "metadata": {},
   "outputs": [],
   "source": []
  }
 ],
 "metadata": {
  "kernelspec": {
   "display_name": "Python 3",
   "language": "python",
   "name": "python3"
  },
  "language_info": {
   "codemirror_mode": {
    "name": "ipython",
    "version": 3
   },
   "file_extension": ".py",
   "mimetype": "text/x-python",
   "name": "python",
   "nbconvert_exporter": "python",
   "pygments_lexer": "ipython3",
   "version": "3.8.5"
  }
 },
 "nbformat": 4,
 "nbformat_minor": 4
}
